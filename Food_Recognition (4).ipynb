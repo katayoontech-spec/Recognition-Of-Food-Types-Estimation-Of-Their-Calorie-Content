{
  "cells": [
    {
      "cell_type": "markdown",
      "metadata": {
        "id": "SCSQneq-LXJi"
      },
      "source": [
        "# In the name of God."
      ]
    },
    {
      "cell_type": "markdown",
      "metadata": {
        "id": "aQkUVrXqw7JI"
      },
      "source": [
        "# EfficientNet V2L"
      ]
    },
    {
      "cell_type": "code",
      "execution_count": null,
      "metadata": {
        "id": "cWPaOZ-Ak1VI"
      },
      "outputs": [],
      "source": [
        "!pip install tensorflow matplotlib numpy pandas kaggle"
      ]
    },
    {
      "cell_type": "code",
      "execution_count": null,
      "metadata": {
        "id": "_eaDwNBUvyi5"
      },
      "outputs": [],
      "source": [
        "from google.colab import files\n",
        "\n",
        "# Upload the kaggle.json file\n",
        "uploaded = files.upload()"
      ]
    },
    {
      "cell_type": "code",
      "execution_count": null,
      "metadata": {
        "id": "Ii3RrPOTvyqv"
      },
      "outputs": [],
      "source": [
        "import os\n",
        "import shutil\n",
        "\n",
        "# Create .kaggle directory\n",
        "!mkdir -p ~/.kaggle\n",
        "shutil.move(\"kaggle.json\", \"/root/.kaggle/\")\n",
        "\n",
        "# Set correct permissions\n",
        "!chmod 600 /root/.kaggle/kaggle.json"
      ]
    },
    {
      "cell_type": "code",
      "execution_count": null,
      "metadata": {
        "id": "-_jKG5aD1eV8"
      },
      "outputs": [],
      "source": [
        "# Install required libraries\n",
        "!pip install gdown tensorflow"
      ]
    },
    {
      "cell_type": "markdown",
      "metadata": {
        "id": "yGFP41Mf6_Op"
      },
      "source": [
        "# Download dataset for training on Food 101"
      ]
    },
    {
      "cell_type": "code",
      "execution_count": null,
      "metadata": {
        "id": "Ua_G5kvzJDMC"
      },
      "outputs": [],
      "source": [
        "!ls -l"
      ]
    },
    {
      "cell_type": "code",
      "execution_count": null,
      "metadata": {
        "id": "r_dCgNBmJgbg"
      },
      "outputs": [],
      "source": [
        "# Install required libraries if not installed\n",
        "!pip install tensorflow tensorflow_datasets\n",
        "\n",
        "# Import necessary libraries\n",
        "import tensorflow as tf\n",
        "import tensorflow_datasets as tfds\n",
        "import numpy as np\n",
        "import matplotlib.pyplot as plt\n",
        "\n",
        "# Check TensorFlow version and GPU availability\n",
        "print(\"TensorFlow Version:\", tf.__version__)\n",
        "print(\"GPU Available:\", tf.config.list_physical_devices('GPU'))"
      ]
    },
    {
      "cell_type": "code",
      "execution_count": null,
      "metadata": {
        "id": "2X4LQPMyahP5"
      },
      "outputs": [],
      "source": [
        "import tensorflow as tf\n",
        "import tensorflow_datasets as tfds\n",
        "import os\n",
        "\n",
        "tfrecord_path = \"food101_dataset.tfrecord\"\n",
        "\n",
        "# Check if TFRecord already exists\n",
        "if os.path.exists(tfrecord_path):\n",
        "    print(\"TFRecord dataset already exists. Skipping download and processing.\")\n",
        "else:\n",
        "    dataset_name = \"food101\"\n",
        "    (ds_train, ds_test), ds_info = tfds.load(dataset_name, split=[\"train\", \"validation\"], as_supervised=True, with_info=True)\n",
        "\n",
        "    def _serialize_example(image, label):\n",
        "        feature = {\n",
        "            \"image\": tf.train.Feature(bytes_list=tf.train.BytesList(value=[tf.io.encode_jpeg(image).numpy()])),\n",
        "            \"label\": tf.train.Feature(int64_list=tf.train.Int64List(value=[label]))\n",
        "        }\n",
        "        example = tf.train.Example(features=tf.train.Features(feature=feature))\n",
        "        return example.SerializeToString()\n",
        "\n",
        "    # Initialize the TFRecord writer\n",
        "    with tf.io.TFRecordWriter(tfrecord_path) as writer:\n",
        "        count = 0\n",
        "        # Iterate through the dataset and write each example to the TFRecord file\n",
        "        for image, label in ds_train:\n",
        "            writer.write(_serialize_example(image, label))\n",
        "            count += 1\n",
        "            if count % 1000 == 0:  # Save every 1000 examples\n",
        "                print(f\"Processed {count} images...\")\n",
        "\n",
        "    print(\"TFRecord dataset saved successfully.\")"
      ]
    },
    {
      "cell_type": "code",
      "execution_count": null,
      "metadata": {
        "id": "ZW7r8ss2apgv"
      },
      "outputs": [],
      "source": [
        "# Load dataset from the TFRecord file\n",
        "def _parse_function(proto):\n",
        "    # Define the features you expect in the TFRecord file\n",
        "    keys_to_features = {\n",
        "        \"image\": tf.io.FixedLenFeature([], tf.string),  # Encoded image\n",
        "        \"label\": tf.io.FixedLenFeature([1], tf.int64)  # Label\n",
        "    }\n",
        "\n",
        "    # Load and parse the example\n",
        "    parsed_features = tf.io.parse_single_example(proto, keys_to_features)\n",
        "\n",
        "    # Decode the image\n",
        "    image = tf.io.decode_jpeg(parsed_features['image'])\n",
        "\n",
        "\n",
        "#     # Ensure images are resized to (224, 224)\n",
        "# def preprocess_image(image, label):\n",
        "#     # Resize images to (224, 224)\n",
        "#     image = tf.image.resize(image, (224, 224))  # Resize to 224x224\n",
        "#     image = tf.cast(image, tf.float32) / 255.0  # Normalize to [0, 1]\n",
        "#     return image, label\n",
        "\n",
        "#    # Ensure images are resized to (600, 600) for EfficientNetB7\n",
        "# def preprocess_image(image, label):\n",
        "#     image = tf.image.resize(image, (600, 600))  # Resize to 600x600\n",
        "#     image = tf.cast(image, tf.float32) / 255.0  # Normalize to [0, 1]\n",
        "#     return image, label\n",
        "\n",
        "def preprocess_image(image, label):\n",
        "    image = tf.image.resize(image, (448, 448))  # Reduce size to 448x448\n",
        "    image = tf.cast(image, tf.float32) / 255.0  # Normalize to [0, 1]\n",
        "    return image, label\n",
        "\n",
        "#     # Apply preprocessing to train and test datasets\n",
        "# train_ds = ds_train.map(preprocess_image).batch(32).prefetch(tf.data.AUTOTUNE)\n",
        "# test_ds = ds_test.map(preprocess_image).batch(32).prefetch(tf.data.AUTOTUNE)\n",
        "\n",
        "\n",
        "\n",
        "# Apply preprocessing to train and test datasets\n",
        "train_ds = ds_train.map(preprocess_image).batch(32).prefetch(tf.data.AUTOTUNE)\n",
        "test_ds = ds_test.map(preprocess_image).batch(32).prefetch(tf.data.AUTOTUNE)\n",
        "\n",
        "\n",
        "    # Check the first batch shape to verify\n",
        "for images, labels in train_ds.take(1):\n",
        "  print(images.shape, labels.shape)"
      ]
    },
    {
      "cell_type": "markdown",
      "metadata": {
        "id": "MgTMO50ySGT8"
      },
      "source": [
        "# EfficientNet V2L"
      ]
    },
    {
      "cell_type": "code",
      "execution_count": null,
      "metadata": {
        "id": "MGcJsjIacy-b"
      },
      "outputs": [],
      "source": [
        "# =============================================================================\n",
        "\n",
        "import tensorflow as tf\n",
        "from tensorflow.keras.applications import EfficientNetV2L\n",
        "from tensorflow.keras.layers import Dense, Dropout, GlobalAveragePooling2D\n",
        "from tensorflow.keras.models import Model\n",
        "\n",
        "# Load EfficientNetV2L without the top classification layer\n",
        "base_model = EfficientNetV2L(weights=\"imagenet\", include_top=False, input_shape=(448, 448, 3))\n",
        "\n",
        "# Freeze all layers initially\n",
        "base_model.trainable = False\n",
        "\n",
        "# Add custom classification head\n",
        "x = GlobalAveragePooling2D()(base_model.output)\n",
        "x = Dense(1024, activation='relu')(x)\n",
        "x = Dropout(0.5)(x)\n",
        "x = Dense(101, activation='softmax')(x)\n",
        "\n",
        "# Final model\n",
        "model = Model(inputs=base_model.input, outputs=x)\n",
        "\n",
        "# Unfreeze the base model for fine-tuning\n",
        "base_model.trainable = True\n",
        "\n",
        "# Compile the model\n",
        "model.compile(\n",
        "    optimizer=tf.keras.optimizers.Adamax(learning_rate=0.00005),\n",
        "    loss=\"sparse_categorical_crossentropy\",\n",
        "    metrics=[\"accuracy\"]\n",
        ")\n",
        "\n",
        "\n",
        "# Callbacks\n",
        "reduce_lr = tf.keras.callbacks.ReduceLROnPlateau(monitor=\"val_loss\", factor=0.1, patience=3)\n",
        "early_stop = tf.keras.callbacks.EarlyStopping(monitor=\"val_loss\", patience=7, restore_best_weights=True)\n",
        "#\n",
        "checkpoint = tf.keras.callbacks.ModelCheckpoint(\"best_model.keras\", save_best_only=True, monitor=\"val_accuracy\", mode=\"max\")\n",
        "\n",
        "# Train the model\n",
        "#history = model.fit(train_ds, validation_data=test_ds, epochs=20, callbacks=[reduce_lr, early_stop])\n",
        "#\n",
        "history = model.fit(train_ds, validation_data=test_ds, epochs=20, callbacks=[reduce_lr, early_stop, checkpoint])"
      ]
    },
    {
      "cell_type": "code",
      "execution_count": null,
      "metadata": {
        "id": "7Z9Y8xSRLogJ"
      },
      "outputs": [],
      "source": [
        "# ********************************\n",
        "# Evaluate the model on the test data\n",
        "test_loss, test_acc = model.evaluate(test_ds)\n",
        "\n",
        "print(f\"Test Loss: {test_loss}\")\n",
        "print(f\"Test Accuracy: {test_acc}\")"
      ]
    },
    {
      "cell_type": "code",
      "execution_count": null,
      "metadata": {
        "id": "y5afHqWTLsV2"
      },
      "outputs": [],
      "source": [
        "import matplotlib.pyplot as plt\n",
        "\n",
        "# Extract values from history\n",
        "acc = history.history['accuracy']\n",
        "val_acc = history.history['val_accuracy']\n",
        "loss = history.history['loss']\n",
        "val_loss = history.history['val_loss']\n",
        "epochs_range = range(1, len(acc) + 1)\n",
        "\n",
        "# Plot accuracy\n",
        "plt.figure(figsize=(12, 5))\n",
        "\n",
        "plt.subplot(1, 2, 1)\n",
        "plt.plot(epochs_range, acc, label='Train Accuracy')\n",
        "plt.plot(epochs_range, val_acc, label='Validation Accuracy')\n",
        "plt.legend(loc='lower right')\n",
        "plt.title('Accuracy over Epochs')\n",
        "\n",
        "# Plot loss\n",
        "plt.subplot(1, 2, 2)\n",
        "plt.plot(epochs_range, loss, label='Train Loss')\n",
        "plt.plot(epochs_range, val_loss, label='Validation Loss')\n",
        "plt.legend(loc='upper right')\n",
        "plt.title('Loss over Epochs')\n",
        "\n",
        "plt.tight_layout()\n",
        "plt.show()"
      ]
    },
    {
      "cell_type": "code",
      "execution_count": null,
      "metadata": {
        "id": "3wFcqlMAJ8NN"
      },
      "outputs": [],
      "source": [
        "from tensorflow.keras.models import load_model\n",
        "from sklearn.metrics import accuracy_score\n",
        "import numpy as np\n",
        "import tensorflow as tf\n",
        "\n",
        "# ---------- TTA Functions ----------\n",
        "def apply_tta(image):\n",
        "    tta_images = [\n",
        "        image,\n",
        "        tf.image.flip_left_right(image),\n",
        "        tf.image.adjust_brightness(image, 0.1),\n",
        "        tf.image.adjust_contrast(image, 1.2),\n",
        "    ]\n",
        "    return tta_images\n",
        "\n",
        "def predict_with_tta(model, dataset):\n",
        "    y_true = []\n",
        "    y_pred = []\n",
        "\n",
        "    for images, labels in dataset:\n",
        "        for i in range(images.shape[0]):\n",
        "            original = images[i]\n",
        "            tta_versions = apply_tta(original)\n",
        "            tta_batch = tf.stack(tta_versions)\n",
        "            preds = model.predict(tta_batch, verbose=0)\n",
        "            avg_pred = tf.reduce_mean(preds, axis=0)\n",
        "            predicted_label = tf.argmax(avg_pred).numpy()\n",
        "\n",
        "            y_true.append(labels[i].numpy())\n",
        "            y_pred.append(predicted_label)\n",
        "\n",
        "    return np.array(y_true), np.array(y_pred)\n",
        "\n",
        "# ---------- Step 1: Accuracy of final model (simple evaluation) ----------\n",
        "simple_loss, simple_acc = model.evaluate(test_ds, verbose=0)\n",
        "print(f\"Simple Evaluation Accuracy (no TTA): {simple_acc:.4f}\")\n",
        "\n",
        "# ---------- Step 2: TTA accuracy of final model ----------\n",
        "print(\"\\n Running TTA on the final model...\")\n",
        "y_true_final, y_pred_final = predict_with_tta(model, test_ds)\n",
        "tta_acc_final = accuracy_score(y_true_final, y_pred_final)\n",
        "print(f\"TTA Accuracy (final model): {tta_acc_final:.4f}\")\n",
        "\n",
        "# ---------- Step 3: TTA accuracy of best_model.keras ----------\n",
        "print(\"\\n Running TTA on best_model.keras...\")\n",
        "best_model = load_model(\"best_model.keras\")\n",
        "y_true_best, y_pred_best = predict_with_tta(best_model, test_ds)\n",
        "tta_acc_best = accuracy_score(y_true_best, y_pred_best)\n",
        "print(f\"TTA Accuracy (best_model.keras): {tta_acc_best:.4f}\")\n",
        "\n",
        "# ---------- Step 4: Compare & Save the Best Performing Model ----------\n",
        "print(\"\\n Comparing all three accuracy metrics...\")\n",
        "print(f\"Simple Accuracy:              {simple_acc:.4f}\")\n",
        "print(f\"TTA Accuracy (final model):   {tta_acc_final:.4f}\")\n",
        "print(f\"TTA Accuracy (best_model.keras): {tta_acc_best:.4f}\")\n",
        "\n",
        "if simple_acc >= max(tta_acc_final, tta_acc_best):\n",
        "    print(\"\\n Saving simple model (no TTA) as best model.\")\n",
        "    model.save(\"food101_trained_model.keras\")\n",
        "elif tta_acc_final >= tta_acc_best:\n",
        "    print(\"\\n Saving final model with TTA as best model.\")\n",
        "    model.save(\"food101_trained_model.keras\")\n",
        "else:\n",
        "    print(\"\\n Saving best_model.keras (with TTA) as best model.\")\n",
        "    best_model.save(\"food101_trained_model.keras\")"
      ]
    },
    {
      "cell_type": "markdown",
      "metadata": {
        "id": "zNs4TZYcCLkW"
      },
      "source": [
        "# Capturing Food image from Webcam"
      ]
    },
    {
      "cell_type": "code",
      "execution_count": null,
      "metadata": {
        "id": "1d_QIMUi9BS1"
      },
      "outputs": [],
      "source": [
        "# from IPython.display import display, Javascript\n",
        "# from google.colab.output import eval_js\n",
        "# from base64 import b64decode\n",
        "# import cv2\n",
        "# import numpy as np\n",
        "\n",
        "# def take_photo(filename='photo.jpg', quality=0.8):\n",
        "#     js = Javascript('''\n",
        "#         async function takePhoto(quality) {\n",
        "#             const div = document.createElement('div');\n",
        "#             const video = document.createElement('video');\n",
        "#             const btn = document.createElement('button');\n",
        "#             btn.textContent = 'Capture';\n",
        "#             div.appendChild(video);\n",
        "#             div.appendChild(btn);\n",
        "#             document.body.appendChild(div);\n",
        "\n",
        "#             const stream = await navigator.mediaDevices.getUserMedia({video: true});\n",
        "#             video.srcObject = stream;\n",
        "#             await video.play();\n",
        "\n",
        "#             await new Promise((resolve) => btn.onclick = resolve);\n",
        "#             const canvas = document.createElement('canvas');\n",
        "#             canvas.width = video.videoWidth;\n",
        "#             canvas.height = video.videoHeight;\n",
        "#             canvas.getContext('2d').drawImage(video, 0, 0);\n",
        "#             stream.getTracks().forEach(track => track.stop());\n",
        "#             div.remove();\n",
        "\n",
        "#             return canvas.toDataURL('image/jpeg', quality);\n",
        "#         }\n",
        "#     ''')\n",
        "#     display(js)\n",
        "#     data = eval_js('takePhoto({})'.format(quality))\n",
        "#     _, encoded = data.split(',', 1)\n",
        "#     img = b64decode(encoded)\n",
        "\n",
        "#     with open(filename, 'wb') as f:\n",
        "#         f.write(img)\n",
        "\n",
        "#     #\n",
        "#     img_np = cv2.imdecode(np.frombuffer(img, np.uint8), cv2.IMREAD_COLOR)\n",
        "#     return img_np\n",
        "\n",
        "# #\n",
        "# img = take_photo()\n",
        "\n",
        "# #\n",
        "# import matplotlib.pyplot as plt\n",
        "# plt.imshow(cv2.cvtColor(img, cv2.COLOR_BGR2RGB))\n",
        "# plt.axis('off')\n",
        "# plt.show()"
      ]
    },
    {
      "cell_type": "markdown",
      "metadata": {
        "id": "zqMMdnAan8SK"
      },
      "source": [
        "# Uploading Food Image from Computer"
      ]
    },
    {
      "cell_type": "markdown",
      "metadata": {
        "id": "j-lVIV2iS-DL"
      },
      "source": [
        "# aproximate callories based on image of food"
      ]
    },
    {
      "cell_type": "code",
      "execution_count": null,
      "metadata": {
        "id": "kVoP6F0LOmHz"
      },
      "outputs": [],
      "source": [
        "import numpy as np\n",
        "import tensorflow as tf\n",
        "from tensorflow.keras.preprocessing import image\n",
        "import matplotlib.pyplot as plt\n",
        "import cv2\n",
        "from google.colab import files\n",
        "\n",
        "# ---------- Load Model ----------\n",
        "model = tf.keras.models.load_model('/content/food101_trained_model.keras')\n",
        "\n",
        "# ---------- Class Labels and Calories ----------\n",
        "food_calories = {\n",
        "    \"apple_pie\": 296, \"baby_back_ribs\": 400, \"baklava\": 334, \"beef_carpaccio\": 150, \"beef_tartare\": 195,\n",
        "    \"beet_salad\": 75, \"beignets\": 250, \"bibimbap\": 600, \"bread_pudding\": 280, \"breakfast_burrito\": 305,\n",
        "    \"bruschetta\": 170, \"caesar_salad\": 180, \"cannoli\": 230, \"caprese_salad\": 150, \"carrot_cake\": 360,\n",
        "    \"ceviche\": 120, \"cheese_plate\": 320, \"cheesecake\": 320, \"chicken_curry\": 210, \"chicken_quesadilla\": 330,\n",
        "    \"chicken_wings\": 430, \"chocolate_cake\": 350, \"chocolate_mousse\": 225, \"churros\": 250, \"clam_chowder\": 201,\n",
        "    \"club_sandwich\": 400, \"crab_cakes\": 240, \"creme_brulee\": 290, \"croque_madame\": 350, \"cup_cakes\": 280,\n",
        "    \"deviled_eggs\": 120, \"donuts\": 240, \"dumplings\": 250, \"edamame\": 122, \"eggs_benedict\": 300, \"escargots\": 200,\n",
        "    \"falafel\": 330, \"filet_mignon\": 275, \"fish_and_chips\": 500, \"foie_gras\": 450, \"french_fries\": 312,\n",
        "    \"french_onion_soup\": 250, \"french_toast\": 310, \"fried_calamari\": 300, \"fried_rice\": 238, \"frozen_yogurt\": 110,\n",
        "    \"garlic_bread\": 206, \"gnocchi\": 250, \"greek_salad\": 150, \"grilled_cheese_sandwich\": 360, \"grilled_salmon\": 206,\n",
        "    \"guacamole\": 230, \"gyoza\": 220, \"hamburger\": 295, \"hot_and_sour_soup\": 90, \"hot_dog\": 290, \"huevos_rancheros\": 220,\n",
        "    \"hummus\": 166, \"ice_cream\": 207, \"lasagna\": 280, \"lobster_bisque\": 210, \"lobster_roll_sandwich\": 340,\n",
        "    \"macaroni_and_cheese\": 310, \"macarons\": 140, \"miso_soup\": 40, \"mussels\": 86, \"nachos\": 346, \"omelette\": 154,\n",
        "    \"onion_rings\": 275, \"oysters\": 70, \"pad_thai\": 375, \"paella\": 240, \"pancakes\": 227, \"panna_cotta\": 250,\n",
        "    \"peking_duck\": 337, \"pho\": 290, \"pizza\": 266, \"pork_chop\": 231, \"poutine\": 330, \"prime_rib\": 400,\n",
        "    \"pulled_pork_sandwich\": 415, \"ramen\": 440, \"ravioli\": 220, \"red_velvet_cake\": 360, \"risotto\": 280,\n",
        "    \"samosa\": 262, \"sashimi\": 200, \"scallops\": 112, \"seaweed_salad\": 70, \"shrimp_and_grits\": 250,\n",
        "    \"spaghetti_bolognese\": 350, \"spaghetti_carbonara\": 360, \"spring_rolls\": 120, \"steak\": 271,\n",
        "    \"strawberry_shortcake\": 290, \"sushi\": 200, \"tacos\": 250, \"takoyaki\": 310, \"tiramisu\": 240, \"tuna_tartare\": 170,\n",
        "    \"waffles\": 310\n",
        "}\n",
        "\n",
        "\n",
        "class_labels = list(food_calories.keys())\n",
        "\n",
        "# ---------- Functions ----------\n",
        "def upload_image():\n",
        "    print(\"Please upload a food image:\")\n",
        "    uploaded = files.upload()\n",
        "    filename = list(uploaded.keys())[0]\n",
        "    new_filename = \"food_image.jpg\"\n",
        "    with open(new_filename, \"wb\") as f:\n",
        "        f.write(uploaded[filename])\n",
        "    return new_filename\n",
        "\n",
        "def preprocess_image(img_path):\n",
        "    img = image.load_img(img_path, target_size=(448, 448))\n",
        "    x = image.img_to_array(img)\n",
        "    x = np.expand_dims(x, axis=0)\n",
        "    return x / 255.0, img\n",
        "\n",
        "def predict_food(image_array):\n",
        "    predictions = model.predict(image_array)\n",
        "    index = np.argmax(predictions)\n",
        "    return class_labels[index]\n",
        "\n",
        "def estimate_food_weight(img_path):\n",
        "    img = cv2.imread(img_path)\n",
        "    gray = cv2.cvtColor(img, cv2.COLOR_BGR2GRAY)\n",
        "    edges = cv2.Canny(gray, 50, 150)\n",
        "    contours, _ = cv2.findContours(edges, cv2.RETR_EXTERNAL, cv2.CHAIN_APPROX_SIMPLE)\n",
        "\n",
        "    if len(contours) == 0:\n",
        "        return 150  # Default weight if no contours found\n",
        "\n",
        "    largest_contour = max(contours, key=cv2.contourArea)\n",
        "    area = cv2.contourArea(largest_contour)\n",
        "    estimated_weight = area * 0.1\n",
        "    return min(max(estimated_weight, 50), 500)  # Bound between 50g and 500g\n",
        "\n",
        "def show_result(img, food_name, weight, calories):\n",
        "    plt.imshow(img)\n",
        "    plt.axis('off')\n",
        "    plt.title(f'{food_name}\\nWeight: {weight:.1f} g\\nCalories: {calories:.1f} kcal')\n",
        "    plt.show()\n",
        "\n",
        "# ---------- Main Process ----------\n",
        "img_path = upload_image()\n",
        "x, original_img = preprocess_image(img_path)\n",
        "predicted_food = predict_food(x)\n",
        "\n",
        "# ---------- Weight Input or Estimation ----------\n",
        "user_weight = input(f\"Enter weight of the food in grams (or press Enter to estimate automatically): \")\n",
        "\n",
        "if user_weight.strip().isdigit():\n",
        "    food_weight = float(user_weight)\n",
        "else:\n",
        "    food_weight = estimate_food_weight(img_path)\n",
        "    print(f\"No weight entered. Estimated weight: {food_weight:.1f} grams\")\n",
        "\n",
        "# ---------- Calculate Calories ----------\n",
        "calories_per_100g = food_calories.get(predicted_food, 200)\n",
        "total_calories = (food_weight / 100) * calories_per_100g\n",
        "\n",
        "# ---------- Show Final Result ----------\n",
        "show_result(original_img, predicted_food, food_weight, total_calories)"
      ]
    }
  ],
  "metadata": {
    "accelerator": "GPU",
    "colab": {
      "gpuType": "A100",
      "machine_shape": "hm",
      "provenance": [],
      "toc_visible": true
    },
    "kernelspec": {
      "display_name": "Python 3 (ipykernel)",
      "language": "python",
      "name": "python3"
    },
    "language_info": {
      "codemirror_mode": {
        "name": "ipython",
        "version": 3
      },
      "file_extension": ".py",
      "mimetype": "text/x-python",
      "name": "python",
      "nbconvert_exporter": "python",
      "pygments_lexer": "ipython3",
      "version": "3.10.9"
    }
  },
  "nbformat": 4,
  "nbformat_minor": 0
}